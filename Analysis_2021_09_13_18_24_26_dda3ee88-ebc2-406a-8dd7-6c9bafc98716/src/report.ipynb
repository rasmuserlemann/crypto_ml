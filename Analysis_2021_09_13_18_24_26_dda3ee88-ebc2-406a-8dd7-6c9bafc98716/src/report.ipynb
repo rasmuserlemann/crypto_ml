{
 "cells": [
  {
   "cell_type": "markdown",
   "id": "c64a763e",
   "metadata": {},
   "source": [
    "## blabla\n"
   ]
  },
  {
   "cell_type": "code",
   "execution_count": null,
   "id": "789acc5d",
   "metadata": {},
   "outputs": [],
   "source": [
    "        import modules.regression as regression\n",
    "        import modules.introduction as introductionA\n",
    "\n",
    "        import numpy as np\n",
    "        import pandas as pd\n",
    "        import os\n",
    "        reldir = os.getcwd()\n",
    "        path_to_data = os.path.join(reldir, 'data', 'btc.csv')\n",
    "        data = pd.read_csv(path_to_data)\n",
    "\n",
    "        test = introductionA.intro(data, \"simpleplot\")\n",
    "        test.plot\n",
    "        "
   ]
  },
  {
   "cell_type": "markdown",
   "id": "e653eac9",
   "metadata": {},
   "source": [
    "## test regression predict\n"
   ]
  },
  {
   "cell_type": "code",
   "execution_count": null,
   "id": "e0f56ad7",
   "metadata": {},
   "outputs": [],
   "source": [
    "3+3\n"
   ]
  }
 ],
 "metadata": {},
 "nbformat": 4,
 "nbformat_minor": 5
}
