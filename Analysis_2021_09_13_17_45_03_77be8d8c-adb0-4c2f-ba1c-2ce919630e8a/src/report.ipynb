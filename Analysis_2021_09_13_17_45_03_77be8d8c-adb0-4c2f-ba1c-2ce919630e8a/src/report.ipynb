{
 "cells": [
  {
   "cell_type": "markdown",
   "id": "1823cd2c",
   "metadata": {},
   "source": [
    "## blabla\n"
   ]
  },
  {
   "cell_type": "code",
   "execution_count": null,
   "id": "60cf71ce",
   "metadata": {},
   "outputs": [],
   "source": [
    "        import modules.regression as regression\n",
    "        import modules.introduction as introductionA\n",
    "\n",
    "        import numpy as np\n",
    "        import pandas as pd\n",
    "        import os\n",
    "        reldir = os.getcwd()\n",
    "        path_to_data = os.path.join(reldir, 'data', 'btc.csv')\n",
    "        data = pd.read_csv(path_to_data)\n",
    "\n",
    "        test = introductionA.intro(data, \"simpleplot\")\n",
    "        test.plot\n",
    "        "
   ]
  },
  {
   "cell_type": "markdown",
   "id": "c0de7092",
   "metadata": {},
   "source": [
    "## test regression predict\n"
   ]
  },
  {
   "cell_type": "code",
   "execution_count": null,
   "id": "c67bbe5f",
   "metadata": {},
   "outputs": [],
   "source": [
    "3+3\n"
   ]
  }
 ],
 "metadata": {},
 "nbformat": 4,
 "nbformat_minor": 5
}
