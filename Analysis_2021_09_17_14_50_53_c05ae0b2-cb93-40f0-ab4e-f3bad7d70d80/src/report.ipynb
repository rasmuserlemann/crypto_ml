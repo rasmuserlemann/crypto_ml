{
 "cells": [
  {
   "cell_type": "markdown",
   "id": "95cc6229",
   "metadata": {},
   "source": [
    "## Introduction\n"
   ]
  },
  {
   "cell_type": "code",
   "execution_count": null,
   "id": "f0366143",
   "metadata": {},
   "outputs": [],
   "source": [
    "        import modules.regression as regression\n",
    "        import modules.introduction as introductionA\n",
    "        import modules.dataload as dataload\n",
    "        import numpy as np\n",
    "        import pandas as pd\n",
    "        import os\n",
    "\n",
    "        crypto = 'X:BTCUSD'\n",
    "        timeint = 'day'\n",
    "        from_ = 1609459200000\n",
    "        to = 1630454400000\n",
    "\n",
    "        getdata = dataload.data(crypto, timeint, from_, to, \"simpledata\")\n",
    "        data = getdata.data\n",
    "        test = introductionA.intro(data['traintime'], data['trainprice'], \"simpleplot\")\n",
    "        test.plot\n",
    "        "
   ]
  },
  {
   "cell_type": "markdown",
   "id": "0d3cf1a7",
   "metadata": {},
   "source": [
    "## Polynomial Regression\n",
    "\n",
    "\n"
   ]
  },
  {
   "cell_type": "code",
   "execution_count": null,
   "id": "c45e4dfd",
   "metadata": {},
   "outputs": [],
   "source": [
    "reg = regression.Regression(data['trainprice'], data['valprice'], data['traintime'], data['valtime'], \"poly\")\n",
    "reg.result\n"
   ]
  }
 ],
 "metadata": {},
 "nbformat": 4,
 "nbformat_minor": 5
}
