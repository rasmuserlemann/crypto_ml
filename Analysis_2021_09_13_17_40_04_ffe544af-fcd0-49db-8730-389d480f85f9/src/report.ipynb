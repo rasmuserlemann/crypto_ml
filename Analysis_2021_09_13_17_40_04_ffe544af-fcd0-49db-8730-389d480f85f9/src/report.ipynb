{
 "cells": [
  {
   "cell_type": "markdown",
   "id": "ed33d11b",
   "metadata": {},
   "source": [
    "## blabla\n"
   ]
  },
  {
   "cell_type": "code",
   "execution_count": null,
   "id": "ac6ba4bf",
   "metadata": {},
   "outputs": [],
   "source": [
    "        import modules.regression as regression\n",
    "        import modules.introduction as introductionA\n",
    "\n",
    "        import numpy as np\n",
    "        import pandas as pd\n",
    "        import os\n",
    "        reldir = os.getcwd()\n",
    "        path_to_data = os.path.join(reldir, 'data', 'btc.csv')\n",
    "        data = pd.read_csv(path_to_data)\n",
    "\n",
    "        test = introductionA.intro(data, \"simpleplot\")\n",
    "        test.plot\n",
    "        "
   ]
  },
  {
   "cell_type": "markdown",
   "id": "f61f3e5e",
   "metadata": {},
   "source": [
    "## test regression predict\n"
   ]
  },
  {
   "cell_type": "code",
   "execution_count": null,
   "id": "d9cf4ad8",
   "metadata": {},
   "outputs": [],
   "source": [
    "3+3\n"
   ]
  }
 ],
 "metadata": {},
 "nbformat": 4,
 "nbformat_minor": 5
}
