{
 "cells": [
  {
   "cell_type": "markdown",
   "id": "55dbad2c",
   "metadata": {},
   "source": [
    "## Introduction\n",
    "\n",
    "This report will analyze Ethereum (ETH) data from the starting time of 2021-01-28 01:21:37 to the end time of 2021-10-01 19:12:42. First we will plot the price data from the starting time to the current time moment. This data set is used in other methods for training the model.\n",
    "        "
   ]
  },
  {
   "cell_type": "code",
   "execution_count": null,
   "id": "338417c4",
   "metadata": {},
   "outputs": [],
   "source": [
    "        import modules.regression as regression\n",
    "        import modules.neural as neural\n",
    "        import modules.introduction as introductionA\n",
    "        import modules.dataload as dataload\n",
    "        import modules.statistics as statistics\n",
    "        import numpy as np\n",
    "        import pandas as pd\n",
    "        import os\n",
    "\n",
    "        crypto = 'X:ETHUSD'\n",
    "        timeint = 'day'\n",
    "        from_ = 1611796897000\n",
    "\n",
    "        getdata = dataload.data(crypto, timeint, from_, \"simpledata\")\n",
    "        data = getdata.data\n",
    "        test = introductionA.intro(data['traintime'], data['trainprice'], \"simpleplot\")\n",
    "        test.plot\n",
    "        "
   ]
  },
  {
   "cell_type": "markdown",
   "id": "d91479aa",
   "metadata": {},
   "source": [
    "## Long Short Term Memory (LSTM)\n",
    "LSTM is one of the most widely used deep learning algorithms for predicting price changes. It's designed to take a sequence of data points as an input and make a prediction from it. The model is trained on a series of sliding windows.\n",
    "\n",
    "The plot displays only the last $100$ time moments with the real price and the predicted price.\n",
    "\n"
   ]
  },
  {
   "cell_type": "code",
   "execution_count": null,
   "id": "359ad70c",
   "metadata": {},
   "outputs": [],
   "source": [
    "neuralnetwork = neural.nn(data['trainprice'], data['traintime'], data['valtime'], \"lstm\")\n",
    "neuralnetwork.result\n"
   ]
  },
  {
   "cell_type": "markdown",
   "id": "a8df62f1",
   "metadata": {},
   "source": [
    "## Polynomial Regression\n",
    "Polynomial regression is a classical supervised approach for predicting price. It fits a nonlinear line between the relationship of features and price. The type of nonlinear line depends on the data. We generally use a polynomial curve with a degree between $5$ and $10$.\n",
    "\n"
   ]
  },
  {
   "cell_type": "code",
   "execution_count": null,
   "id": "a5c99f1f",
   "metadata": {},
   "outputs": [],
   "source": [
    "reg = regression.Regression(data['trainprice'], data['traintime'], data['valtime'], \"poly\")\n",
    "reg.result\n"
   ]
  },
  {
   "cell_type": "markdown",
   "id": "46ed77f4",
   "metadata": {},
   "source": [
    "## AutoRegressive Integrated Moving Average (ARIMA)\n",
    "ARIMA is one of the methods from statistics and it is used to analyze time series data. A data set is autoregressive if the price of each time moment depends linearly on the previous time moments. It specifies the dependancy of time moments between eachother. Integrated means the data has been made stationary and moving average means the forecast will depend linearly on the past values. ARIMA models have been used on stock exchanges for price prediction since the 1970s.\n",
    "\n"
   ]
  },
  {
   "cell_type": "code",
   "execution_count": null,
   "id": "4611ac5e",
   "metadata": {},
   "outputs": [],
   "source": [
    "arima = statistics.Statistics(data['trainprice'], data['traintime'], data['valtime'], \"arima\")\n",
    "arima.result\n"
   ]
  }
 ],
 "metadata": {},
 "nbformat": 4,
 "nbformat_minor": 5
}
