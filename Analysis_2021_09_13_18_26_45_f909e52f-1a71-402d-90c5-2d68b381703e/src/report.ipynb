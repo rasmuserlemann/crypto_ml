{
 "cells": [
  {
   "cell_type": "markdown",
   "id": "cf01e16a",
   "metadata": {},
   "source": [
    "## blabla\n"
   ]
  },
  {
   "cell_type": "code",
   "execution_count": null,
   "id": "a2f70dd3",
   "metadata": {},
   "outputs": [],
   "source": [
    "        import modules.regression as regression\n",
    "        import modules.introduction as introductionA\n",
    "\n",
    "        import numpy as np\n",
    "        import pandas as pd\n",
    "        import os\n",
    "        reldir = os.getcwd()\n",
    "        path_to_data = os.path.join(reldir, 'data', 'btc.csv')\n",
    "        data = pd.read_csv(path_to_data)\n",
    "\n",
    "        test = introductionA.intro(data, \"simpleplot\")\n",
    "        test.plot\n",
    "        "
   ]
  },
  {
   "cell_type": "markdown",
   "id": "eb8cb5a1",
   "metadata": {},
   "source": [
    "## test regression predict\n"
   ]
  },
  {
   "cell_type": "code",
   "execution_count": null,
   "id": "1aa5304b",
   "metadata": {},
   "outputs": [],
   "source": [
    "3+3\n"
   ]
  }
 ],
 "metadata": {},
 "nbformat": 4,
 "nbformat_minor": 5
}
